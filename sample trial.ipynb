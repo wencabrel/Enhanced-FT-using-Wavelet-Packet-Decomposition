{
 "cells": [
  {
   "cell_type": "code",
   "execution_count": 26,
   "id": "60e98e3a",
   "metadata": {},
   "outputs": [
    {
     "ename": "ValueError",
     "evalue": "operands could not be broadcast together with shapes (500,) (250,) ",
     "output_type": "error",
     "traceback": [
      "\u001b[1;31m---------------------------------------------------------------------------\u001b[0m",
      "\u001b[1;31mValueError\u001b[0m                                Traceback (most recent call last)",
      "Input \u001b[1;32mIn [26]\u001b[0m, in \u001b[0;36m<cell line: 20>\u001b[1;34m()\u001b[0m\n\u001b[0;32m     18\u001b[0m \u001b[38;5;66;03m# Apply the proposed enhanced Fourier transform using wavelet packet decomposition\u001b[39;00m\n\u001b[0;32m     19\u001b[0m wp \u001b[38;5;241m=\u001b[39m pywt\u001b[38;5;241m.\u001b[39mWaveletPacket(signal, \u001b[38;5;124m'\u001b[39m\u001b[38;5;124mdb1\u001b[39m\u001b[38;5;124m'\u001b[39m, mode\u001b[38;5;241m=\u001b[39m\u001b[38;5;124m'\u001b[39m\u001b[38;5;124msymmetric\u001b[39m\u001b[38;5;124m'\u001b[39m, maxlevel\u001b[38;5;241m=\u001b[39m\u001b[38;5;241m2\u001b[39m)\n\u001b[1;32m---> 20\u001b[0m f_enhanced \u001b[38;5;241m=\u001b[39m \u001b[43mnp\u001b[49m\u001b[38;5;241;43m.\u001b[39;49m\u001b[43mabs\u001b[49m\u001b[43m(\u001b[49m\u001b[43mwp\u001b[49m\u001b[43m[\u001b[49m\u001b[38;5;124;43m'\u001b[39;49m\u001b[38;5;124;43ma\u001b[39;49m\u001b[38;5;124;43m'\u001b[39;49m\u001b[43m]\u001b[49m\u001b[38;5;241;43m.\u001b[39;49m\u001b[43mdata\u001b[49m\u001b[43m)\u001b[49m\u001b[43m \u001b[49m\u001b[38;5;241;43m+\u001b[39;49m\u001b[43m \u001b[49m\u001b[43mnp\u001b[49m\u001b[38;5;241;43m.\u001b[39;49m\u001b[43mabs\u001b[49m\u001b[43m(\u001b[49m\u001b[43mwp\u001b[49m\u001b[43m[\u001b[49m\u001b[38;5;124;43m'\u001b[39;49m\u001b[38;5;124;43maa\u001b[39;49m\u001b[38;5;124;43m'\u001b[39;49m\u001b[43m]\u001b[49m\u001b[38;5;241;43m.\u001b[39;49m\u001b[43mdata\u001b[49m\u001b[43m)\u001b[49m\n\u001b[0;32m     22\u001b[0m \u001b[38;5;66;03m# Plot the results\u001b[39;00m\n\u001b[0;32m     23\u001b[0m plt\u001b[38;5;241m.\u001b[39mfigure()\n",
      "\u001b[1;31mValueError\u001b[0m: operands could not be broadcast together with shapes (500,) (250,) "
     ]
    }
   ],
   "source": [
    "# Import necessary libraries\n",
    "import numpy as np\n",
    "import matplotlib.pyplot as plt\n",
    "import pywt\n",
    "from scipy.fftpack import fft\n",
    "\n",
    "# Generate a synthetic signal\n",
    "t = np.linspace(0, 1, 1000)\n",
    "signal = np.sin(2 * np.pi * 10 * t) + np.sin(2 * np.pi * 20 * t)\n",
    "\n",
    "# Apply the standard Fourier transform\n",
    "f_signal = np.abs(fft(signal))\n",
    "\n",
    "# Apply the standard wavelet transform\n",
    "cA, cD = pywt.dwt(signal, 'db1')\n",
    "f_wavelet = np.abs(fft(cA))\n",
    "\n",
    "# Apply the proposed enhanced Fourier transform using wavelet packet decomposition\n",
    "wp = pywt.WaveletPacket(signal, 'db1', mode='symmetric', maxlevel=2)\n",
    "f_enhanced = np.abs(wp['a'].data) + np.abs(wp['aa'].data)\n",
    "\n",
    "# Plot the results\n",
    "plt.figure()\n",
    "plt.subplot(311)\n",
    "plt.plot(t, signal)\n",
    "plt.title('Signal')\n",
    "plt.subplot(312)\n",
    "plt.plot(f_signal)\n",
    "plt.title('Standard Fourier Transform')\n",
    "plt.subplot(313)\n",
    "plt.plot(f_wavelet)\n",
    "plt.title('Standard Wavelet Transform')\n",
    "plt.tight_layout()\n",
    "\n",
    "plt.figure()\n",
    "plt.subplot(311)\n",
    "plt.plot(t, signal)\n",
    "plt.title('Signal')\n",
    "plt.subplot(312)\n",
    "plt.plot(f_signal)\n",
    "plt.title('Standard Fourier Transform')\n",
    "plt.subplot(313)\n",
    "plt.plot(f_enhanced)\n",
    "plt.title('Enhanced Fourier Transform using Wavelet Packet Decomposition')\n",
    "plt.tight_layout()\n",
    "\n",
    "plt.show()\n"
   ]
  },
  {
   "cell_type": "code",
   "execution_count": null,
   "id": "89ac4a93",
   "metadata": {},
   "outputs": [],
   "source": []
  }
 ],
 "metadata": {
  "kernelspec": {
   "display_name": "Python 3 (ipykernel)",
   "language": "python",
   "name": "python3"
  },
  "language_info": {
   "codemirror_mode": {
    "name": "ipython",
    "version": 3
   },
   "file_extension": ".py",
   "mimetype": "text/x-python",
   "name": "python",
   "nbconvert_exporter": "python",
   "pygments_lexer": "ipython3",
   "version": "3.9.12"
  }
 },
 "nbformat": 4,
 "nbformat_minor": 5
}
